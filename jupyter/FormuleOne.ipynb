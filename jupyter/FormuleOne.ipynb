{
 "cells": [
  {
   "cell_type": "code",
   "execution_count": 1,
   "id": "c30deb40",
   "metadata": {
    "scrolled": true
   },
   "outputs": [],
   "source": [
    "import numpy as np\n",
    "import pandas as pd\n",
    "pd.options.mode.chained_assignment = None  # default='warn'\n",
    "data_df = pd.read_csv('results.csv')\n",
    "cols_to_keep = ['raceId', 'driverId', 'constructorId', 'grid','positionOrder']\n",
    "df = data_df[cols_to_keep]"
   ]
  },
  {
   "cell_type": "code",
   "execution_count": null,
   "id": "498b02f9",
   "metadata": {
    "scrolled": true
   },
   "outputs": [],
   "source": []
  },
  {
   "cell_type": "code",
   "execution_count": 28,
   "id": "7633722d",
   "metadata": {},
   "outputs": [],
   "source": [
    "moy_grid_race = data_df[[\"raceId\",\"driverId\",\"grid\"]]"
   ]
  },
  {
   "cell_type": "code",
   "execution_count": 29,
   "id": "d8cf24f8",
   "metadata": {},
   "outputs": [],
   "source": [
    "def calculate_mean_grid_race(line):\n",
    "    raceID = line[\"raceId\"]\n",
    "    driveID = line[\"driverId\"]\n",
    "    mean_grid = moy_grid_race.loc[(df[\"driverId\"] == driveID) & (df[\"raceId\"] == raceID), \"grid\"].mean()\n",
    "    return mean_grid\n"
   ]
  },
  {
   "cell_type": "code",
   "execution_count": 30,
   "id": "0e3401c8",
   "metadata": {},
   "outputs": [],
   "source": [
    "df[\"moy_grid_by_race\"] = df.apply(calculate_mean_grid_race, axis = 1)\n"
   ]
  },
  {
   "cell_type": "code",
   "execution_count": null,
   "id": "09eab06f",
   "metadata": {},
   "outputs": [],
   "source": []
  },
  {
   "cell_type": "code",
   "execution_count": 32,
   "id": "4e2a740e",
   "metadata": {},
   "outputs": [],
   "source": [
    "moy_grid_constructor = data_df[[\"raceId\",\"constructorId\",\"grid\"]]"
   ]
  },
  {
   "cell_type": "code",
   "execution_count": 33,
   "id": "d8834ea7",
   "metadata": {},
   "outputs": [],
   "source": [
    "def calculate_mean_grid_constructor(line):\n",
    "    constructorID = line[\"constructorId\"]\n",
    "    driveID = line[\"driverId\"]\n",
    "    mean_grid = moy_grid_constructor.loc[(df[\"driverId\"] == driveID) & (df[\"constructorId\"] == constructorID), \"grid\"].mean()\n",
    "    return mean_grid"
   ]
  },
  {
   "cell_type": "code",
   "execution_count": 34,
   "id": "f09fbde1",
   "metadata": {},
   "outputs": [],
   "source": [
    "df[\"moy_grid_by_constructor\"] = df.apply(calculate_mean_grid_constructor, axis = 1)\n"
   ]
  },
  {
   "cell_type": "code",
   "execution_count": null,
   "id": "500c7b69",
   "metadata": {},
   "outputs": [],
   "source": []
  },
  {
   "cell_type": "code",
   "execution_count": 3,
   "id": "9a9acedf",
   "metadata": {},
   "outputs": [],
   "source": [
    "count_race_times = data_df[[\"raceId\", \"driverId\"]].value_counts()\n"
   ]
  },
  {
   "cell_type": "code",
   "execution_count": 10,
   "id": "2dd0f391",
   "metadata": {},
   "outputs": [],
   "source": [
    "def racer_number_times_raced(line):\n",
    "    raceID = line[\"raceId\"]\n",
    "    driveID = line[\"driverId\"]\n",
    "    if(count_race_times.loc[raceID][driveID]==3):\n",
    "        print(line[\"driverId\"])\n",
    "    return count_race_times.loc[raceID][driveID]\n",
    "    \n"
   ]
  },
  {
   "cell_type": "code",
   "execution_count": 39,
   "id": "f90b94db",
   "metadata": {
    "scrolled": true
   },
   "outputs": [
    {
     "data": {
      "text/plain": [
       "4      358\n",
       "8      352\n",
       "22     326\n",
       "1      310\n",
       "18     309\n",
       "      ... \n",
       "88      88\n",
       "176     88\n",
       "364     87\n",
       "427     87\n",
       "306     87\n",
       "Name: driverId, Length: 100, dtype: int64"
      ]
     },
     "execution_count": 39,
     "metadata": {},
     "output_type": "execute_result"
    }
   ],
   "source": [
    "# df[\"number_times_raced\"] = df.apply(racer_number_times_raced, axis = 1)\n",
    "df[\"driverId\"].value_counts().head(100)"
   ]
  },
  {
   "cell_type": "code",
   "execution_count": 36,
   "id": "7a52709e",
   "metadata": {
    "scrolled": true
   },
   "outputs": [
    {
     "data": {
      "text/html": [
       "<div>\n",
       "<style scoped>\n",
       "    .dataframe tbody tr th:only-of-type {\n",
       "        vertical-align: middle;\n",
       "    }\n",
       "\n",
       "    .dataframe tbody tr th {\n",
       "        vertical-align: top;\n",
       "    }\n",
       "\n",
       "    .dataframe thead th {\n",
       "        text-align: right;\n",
       "    }\n",
       "</style>\n",
       "<table border=\"1\" class=\"dataframe\">\n",
       "  <thead>\n",
       "    <tr style=\"text-align: right;\">\n",
       "      <th></th>\n",
       "      <th>raceId</th>\n",
       "      <th>driverId</th>\n",
       "      <th>constructorId</th>\n",
       "      <th>grid</th>\n",
       "      <th>positionOrder</th>\n",
       "      <th>number_times_raced</th>\n",
       "      <th>moy_grid_by_race</th>\n",
       "      <th>moy_grid_by_constructor</th>\n",
       "    </tr>\n",
       "  </thead>\n",
       "  <tbody>\n",
       "    <tr>\n",
       "      <th>0</th>\n",
       "      <td>18</td>\n",
       "      <td>1</td>\n",
       "      <td>1</td>\n",
       "      <td>1</td>\n",
       "      <td>1</td>\n",
       "      <td>1</td>\n",
       "      <td>1.0</td>\n",
       "      <td>4.745455</td>\n",
       "    </tr>\n",
       "    <tr>\n",
       "      <th>1</th>\n",
       "      <td>18</td>\n",
       "      <td>2</td>\n",
       "      <td>2</td>\n",
       "      <td>5</td>\n",
       "      <td>2</td>\n",
       "      <td>1</td>\n",
       "      <td>5.0</td>\n",
       "      <td>9.157143</td>\n",
       "    </tr>\n",
       "    <tr>\n",
       "      <th>2</th>\n",
       "      <td>18</td>\n",
       "      <td>3</td>\n",
       "      <td>3</td>\n",
       "      <td>7</td>\n",
       "      <td>3</td>\n",
       "      <td>1</td>\n",
       "      <td>7.0</td>\n",
       "      <td>10.871429</td>\n",
       "    </tr>\n",
       "    <tr>\n",
       "      <th>3</th>\n",
       "      <td>18</td>\n",
       "      <td>4</td>\n",
       "      <td>4</td>\n",
       "      <td>11</td>\n",
       "      <td>4</td>\n",
       "      <td>1</td>\n",
       "      <td>11.0</td>\n",
       "      <td>6.500000</td>\n",
       "    </tr>\n",
       "    <tr>\n",
       "      <th>4</th>\n",
       "      <td>18</td>\n",
       "      <td>5</td>\n",
       "      <td>1</td>\n",
       "      <td>3</td>\n",
       "      <td>5</td>\n",
       "      <td>1</td>\n",
       "      <td>3.0</td>\n",
       "      <td>7.600000</td>\n",
       "    </tr>\n",
       "    <tr>\n",
       "      <th>...</th>\n",
       "      <td>...</td>\n",
       "      <td>...</td>\n",
       "      <td>...</td>\n",
       "      <td>...</td>\n",
       "      <td>...</td>\n",
       "      <td>...</td>\n",
       "      <td>...</td>\n",
       "      <td>...</td>\n",
       "    </tr>\n",
       "    <tr>\n",
       "      <th>25835</th>\n",
       "      <td>1096</td>\n",
       "      <td>854</td>\n",
       "      <td>210</td>\n",
       "      <td>12</td>\n",
       "      <td>16</td>\n",
       "      <td>1</td>\n",
       "      <td>12.0</td>\n",
       "      <td>15.340909</td>\n",
       "    </tr>\n",
       "    <tr>\n",
       "      <th>25836</th>\n",
       "      <td>1096</td>\n",
       "      <td>825</td>\n",
       "      <td>210</td>\n",
       "      <td>16</td>\n",
       "      <td>17</td>\n",
       "      <td>1</td>\n",
       "      <td>16.0</td>\n",
       "      <td>12.702970</td>\n",
       "    </tr>\n",
       "    <tr>\n",
       "      <th>25837</th>\n",
       "      <td>1096</td>\n",
       "      <td>1</td>\n",
       "      <td>131</td>\n",
       "      <td>5</td>\n",
       "      <td>18</td>\n",
       "      <td>1</td>\n",
       "      <td>5.0</td>\n",
       "      <td>3.410000</td>\n",
       "    </tr>\n",
       "    <tr>\n",
       "      <th>25838</th>\n",
       "      <td>1096</td>\n",
       "      <td>849</td>\n",
       "      <td>3</td>\n",
       "      <td>20</td>\n",
       "      <td>19</td>\n",
       "      <td>1</td>\n",
       "      <td>20.0</td>\n",
       "      <td>16.672131</td>\n",
       "    </tr>\n",
       "    <tr>\n",
       "      <th>25839</th>\n",
       "      <td>1096</td>\n",
       "      <td>4</td>\n",
       "      <td>214</td>\n",
       "      <td>10</td>\n",
       "      <td>20</td>\n",
       "      <td>1</td>\n",
       "      <td>10.0</td>\n",
       "      <td>9.954545</td>\n",
       "    </tr>\n",
       "  </tbody>\n",
       "</table>\n",
       "<p>25840 rows × 8 columns</p>\n",
       "</div>"
      ],
      "text/plain": [
       "       raceId  driverId  constructorId  grid  positionOrder  \\\n",
       "0          18         1              1     1              1   \n",
       "1          18         2              2     5              2   \n",
       "2          18         3              3     7              3   \n",
       "3          18         4              4    11              4   \n",
       "4          18         5              1     3              5   \n",
       "...       ...       ...            ...   ...            ...   \n",
       "25835    1096       854            210    12             16   \n",
       "25836    1096       825            210    16             17   \n",
       "25837    1096         1            131     5             18   \n",
       "25838    1096       849              3    20             19   \n",
       "25839    1096         4            214    10             20   \n",
       "\n",
       "       number_times_raced  moy_grid_by_race  moy_grid_by_constructor  \n",
       "0                       1               1.0                 4.745455  \n",
       "1                       1               5.0                 9.157143  \n",
       "2                       1               7.0                10.871429  \n",
       "3                       1              11.0                 6.500000  \n",
       "4                       1               3.0                 7.600000  \n",
       "...                   ...               ...                      ...  \n",
       "25835                   1              12.0                15.340909  \n",
       "25836                   1              16.0                12.702970  \n",
       "25837                   1               5.0                 3.410000  \n",
       "25838                   1              20.0                16.672131  \n",
       "25839                   1              10.0                 9.954545  \n",
       "\n",
       "[25840 rows x 8 columns]"
      ]
     },
     "execution_count": 36,
     "metadata": {},
     "output_type": "execute_result"
    }
   ],
   "source": [
    "df"
   ]
  },
  {
   "cell_type": "code",
   "execution_count": 27,
   "id": "a5f7e79e",
   "metadata": {},
   "outputs": [
    {
     "data": {
      "text/plain": [
       "driverId            3.0\n",
       "moy_grid_by_race    7.0\n",
       "Name: 2, dtype: float64"
      ]
     },
     "execution_count": 27,
     "metadata": {},
     "output_type": "execute_result"
    }
   ],
   "source": [
    "t = df[[\"driverId\",\"moy_grid_by_race\"]]\n",
    "t.loc[2]\n"
   ]
  },
  {
   "cell_type": "code",
   "execution_count": 24,
   "id": "04db0951",
   "metadata": {},
   "outputs": [
    {
     "data": {
      "text/plain": [
       "3"
      ]
     },
     "execution_count": 24,
     "metadata": {},
     "output_type": "execute_result"
    }
   ],
   "source": [
    "count_race_times.loc[792][501]"
   ]
  },
  {
   "cell_type": "code",
   "execution_count": null,
   "id": "0467df6b",
   "metadata": {},
   "outputs": [],
   "source": [
    "X = df[[\"grid\", \"moyT_grid_by_race\"]]\n",
    "y = df[\"positionOrder\"]\n",
    "\n",
    "model.fit(X, y)\n",
    "\n",
    "model.predict(X_test)"
   ]
  }
 ],
 "metadata": {
  "kernelspec": {
   "display_name": "Python 3 (ipykernel)",
   "language": "python",
   "name": "python3"
  },
  "language_info": {
   "codemirror_mode": {
    "name": "ipython",
    "version": 3
   },
   "file_extension": ".py",
   "mimetype": "text/x-python",
   "name": "python",
   "nbconvert_exporter": "python",
   "pygments_lexer": "ipython3",
   "version": "3.9.0"
  }
 },
 "nbformat": 4,
 "nbformat_minor": 5
}
